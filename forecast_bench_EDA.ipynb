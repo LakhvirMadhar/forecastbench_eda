{
 "cells": [
  {
   "cell_type": "markdown",
   "id": "64fde7ac",
   "metadata": {},
   "source": [
    "### Imports"
   ]
  },
  {
   "cell_type": "code",
   "execution_count": null,
   "id": "bc92acb3",
   "metadata": {},
   "outputs": [],
   "source": [
    "import os\n",
    "from utils.information_retrieval import run_commit_retrieval, create_folders, download_csv_files, create_master_csv"
   ]
  },
  {
   "cell_type": "markdown",
   "id": "59b3b934",
   "metadata": {},
   "source": [
    "### Inital Params"
   ]
  },
  {
   "cell_type": "code",
   "execution_count": null,
   "id": "c720843d",
   "metadata": {},
   "outputs": [],
   "source": [
    "commits_url = \"https://api.github.com/repos/forecastingresearch/forecastbench-datasets/commits\"\n",
    "params = {'path': 'leaderboards/csv/leaderboard_overall.csv', 'per_page': 100}\n",
    "headers = {'Authorization': f'token {os.getenv(\"GITHUB_API_KEY\")}'}"
   ]
  },
  {
   "cell_type": "markdown",
   "id": "555eeb95",
   "metadata": {},
   "source": [
    "### Information Retrieval Pipeline\n",
    "1. We create the folders needed to store the data\n",
    "2. We get the commit history from Forecast Bench and save it locally\n",
    "3. We retrieve all leaderboard csv files in accordance to the commit history\n",
    "4. We concatenate all leaderboard csv files into a single csv file to then do data analysis on"
   ]
  },
  {
   "cell_type": "code",
   "execution_count": null,
   "id": "531c7fe4",
   "metadata": {},
   "outputs": [],
   "source": [
    "create_folders()"
   ]
  },
  {
   "cell_type": "code",
   "execution_count": null,
   "id": "73458cf5",
   "metadata": {},
   "outputs": [],
   "source": [
    "run_commit_retrieval(commits_url, params, headers)"
   ]
  },
  {
   "cell_type": "code",
   "execution_count": null,
   "id": "67a694ca",
   "metadata": {},
   "outputs": [],
   "source": [
    "await download_csv_files(headers)"
   ]
  },
  {
   "cell_type": "code",
   "execution_count": null,
   "id": "bed6ff0d",
   "metadata": {},
   "outputs": [],
   "source": [
    "create_master_csv()"
   ]
  },
  {
   "cell_type": "markdown",
   "id": "a0727022",
   "metadata": {},
   "source": [
    "### Chart Creation"
   ]
  },
  {
   "cell_type": "code",
   "execution_count": null,
   "id": "3cbafd88",
   "metadata": {},
   "outputs": [],
   "source": [
    "import pandas as pd\n",
    "df = pd.read_csv('data/master.csv')"
   ]
  }
 ],
 "metadata": {
  "kernelspec": {
   "display_name": ".venv",
   "language": "python",
   "name": "python3"
  },
  "language_info": {
   "codemirror_mode": {
    "name": "ipython",
    "version": 3
   },
   "file_extension": ".py",
   "mimetype": "text/x-python",
   "name": "python",
   "nbconvert_exporter": "python",
   "pygments_lexer": "ipython3",
   "version": "3.13.3"
  }
 },
 "nbformat": 4,
 "nbformat_minor": 5
}
