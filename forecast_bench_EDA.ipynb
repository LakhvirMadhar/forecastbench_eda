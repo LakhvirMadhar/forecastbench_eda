{
 "cells": [
  {
   "cell_type": "markdown",
   "id": "64fde7ac",
   "metadata": {},
   "source": [
    "### Imports"
   ]
  },
  {
   "cell_type": "code",
   "execution_count": 1,
   "id": "bc92acb3",
   "metadata": {},
   "outputs": [],
   "source": [
    "import os\n",
    "from utils.information_retrieval import run_commit_retrieval, create_folders, download_csv_files"
   ]
  },
  {
   "cell_type": "markdown",
   "id": "59b3b934",
   "metadata": {},
   "source": [
    "### Inital Params"
   ]
  },
  {
   "cell_type": "code",
   "execution_count": null,
   "id": "c720843d",
   "metadata": {},
   "outputs": [],
   "source": [
    "commits_url = \"https://api.github.com/repos/forecastingresearch/forecastbench-datasets/commits\"\n",
    "params = {'path': 'leaderboards/csv/leaderboard_overall.csv', 'per_page': 100}\n",
    "headers = {'Authorization': f'token {os.getenv(\"GITHUB_API_KEY\")}'}"
   ]
  },
  {
   "cell_type": "markdown",
   "id": "555eeb95",
   "metadata": {},
   "source": [
    "### Information Retrieval Pipeline"
   ]
  },
  {
   "cell_type": "code",
   "execution_count": null,
   "id": "531c7fe4",
   "metadata": {},
   "outputs": [],
   "source": [
    "create_folders()"
   ]
  },
  {
   "cell_type": "code",
   "execution_count": null,
   "id": "73458cf5",
   "metadata": {},
   "outputs": [],
   "source": [
    "run_commit_retrieval(commits_url, params, headers)"
   ]
  },
  {
   "cell_type": "code",
   "execution_count": 3,
   "id": "67a694ca",
   "metadata": {},
   "outputs": [],
   "source": [
    "download_csv_files()"
   ]
  }
 ],
 "metadata": {
  "kernelspec": {
   "display_name": ".venv",
   "language": "python",
   "name": "python3"
  },
  "language_info": {
   "codemirror_mode": {
    "name": "ipython",
    "version": 3
   },
   "file_extension": ".py",
   "mimetype": "text/x-python",
   "name": "python",
   "nbconvert_exporter": "python",
   "pygments_lexer": "ipython3",
   "version": "3.13.3"
  }
 },
 "nbformat": 4,
 "nbformat_minor": 5
}
